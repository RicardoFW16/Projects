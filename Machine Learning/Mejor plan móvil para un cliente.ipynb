{
 "cells": [
  {
   "cell_type": "markdown",
   "metadata": {},
   "source": [
    "# ¿Cúal es el mejor modelo para determinar el plan de un usuario?"
   ]
  },
  {
   "cell_type": "markdown",
   "metadata": {},
   "source": [
    "La compañía móvil Megaline no está satisfecha al ver que muchos de sus clientes utilizan planes heredados. Por lo tanto desarrollaremos un modelo que pueda analizar el comportamiento de los clientes y recomendar uno de los nuevos planes de Megaline: Smart o Ultra.\n",
    "\n",
    "Para ello analizaremos datasets donde se registra el comportamiento de cada suscriptor, dicho dataset ya se encuentra procesado por lo que nos dedicaremos a solo realizar el modelo. Con ello crearemos un modelo clasificación que escoja el plan correcto.\n",
    "\n",
    "**Tabla de contenido:**\n",
    "\n",
    "1. Análisis de datasets\n",
    "2. Desarrollo del modelo\n",
    "3. Calidad del modelo\n",
    "4. Conclusión general\n",
    "\n",
    "**Objetivos**\n",
    "\n",
    "1. Desarrollar un modelo que pueda analizar el comportamiento de los clientes y recomendar uno de los nuevos planes de Megaline: Smart o Ultra."
   ]
  },
  {
   "cell_type": "markdown",
   "metadata": {},
   "source": [
    "**Descripción del dataset del proyecto:**\n",
    "\n",
    "- `сalls`: número de llamadas\n",
    "- `minutes`: duración total de la llamada en minutos\n",
    "- `messages`: número de mensajes de texto\n",
    "- `mb_used`: tráfico de Internet utilizado en MB\n",
    "- `is_ultra`: plan para el mes actual (Ultra - 1, Smart - 0)"
   ]
  },
  {
   "cell_type": "markdown",
   "metadata": {},
   "source": [
    "## Análisis de datasets"
   ]
  },
  {
   "cell_type": "code",
   "execution_count": 1,
   "metadata": {},
   "outputs": [],
   "source": [
    "# Importar librerías necesarias\n",
    "import pandas as pd\n",
    "from sklearn.ensemble import RandomForestClassifier\n",
    "from sklearn.linear_model import LogisticRegression\n",
    "from sklearn.metrics import accuracy_score\n",
    "from sklearn.model_selection import train_test_split\n",
    "from sklearn.tree import DecisionTreeClassifier"
   ]
  },
  {
   "cell_type": "markdown",
   "metadata": {},
   "source": [
    "### Carga de datos"
   ]
  },
  {
   "cell_type": "code",
   "execution_count": 2,
   "metadata": {},
   "outputs": [
    {
     "data": {
      "text/html": [
       "<div>\n",
       "<style scoped>\n",
       "    .dataframe tbody tr th:only-of-type {\n",
       "        vertical-align: middle;\n",
       "    }\n",
       "\n",
       "    .dataframe tbody tr th {\n",
       "        vertical-align: top;\n",
       "    }\n",
       "\n",
       "    .dataframe thead th {\n",
       "        text-align: right;\n",
       "    }\n",
       "</style>\n",
       "<table border=\"1\" class=\"dataframe\">\n",
       "  <thead>\n",
       "    <tr style=\"text-align: right;\">\n",
       "      <th></th>\n",
       "      <th>calls</th>\n",
       "      <th>minutes</th>\n",
       "      <th>messages</th>\n",
       "      <th>mb_used</th>\n",
       "      <th>is_ultra</th>\n",
       "    </tr>\n",
       "  </thead>\n",
       "  <tbody>\n",
       "    <tr>\n",
       "      <th>0</th>\n",
       "      <td>40.0</td>\n",
       "      <td>311.90</td>\n",
       "      <td>83.0</td>\n",
       "      <td>19915.42</td>\n",
       "      <td>0</td>\n",
       "    </tr>\n",
       "    <tr>\n",
       "      <th>1</th>\n",
       "      <td>85.0</td>\n",
       "      <td>516.75</td>\n",
       "      <td>56.0</td>\n",
       "      <td>22696.96</td>\n",
       "      <td>0</td>\n",
       "    </tr>\n",
       "    <tr>\n",
       "      <th>2</th>\n",
       "      <td>77.0</td>\n",
       "      <td>467.66</td>\n",
       "      <td>86.0</td>\n",
       "      <td>21060.45</td>\n",
       "      <td>0</td>\n",
       "    </tr>\n",
       "    <tr>\n",
       "      <th>3</th>\n",
       "      <td>106.0</td>\n",
       "      <td>745.53</td>\n",
       "      <td>81.0</td>\n",
       "      <td>8437.39</td>\n",
       "      <td>1</td>\n",
       "    </tr>\n",
       "    <tr>\n",
       "      <th>4</th>\n",
       "      <td>66.0</td>\n",
       "      <td>418.74</td>\n",
       "      <td>1.0</td>\n",
       "      <td>14502.75</td>\n",
       "      <td>0</td>\n",
       "    </tr>\n",
       "    <tr>\n",
       "      <th>...</th>\n",
       "      <td>...</td>\n",
       "      <td>...</td>\n",
       "      <td>...</td>\n",
       "      <td>...</td>\n",
       "      <td>...</td>\n",
       "    </tr>\n",
       "    <tr>\n",
       "      <th>3209</th>\n",
       "      <td>122.0</td>\n",
       "      <td>910.98</td>\n",
       "      <td>20.0</td>\n",
       "      <td>35124.90</td>\n",
       "      <td>1</td>\n",
       "    </tr>\n",
       "    <tr>\n",
       "      <th>3210</th>\n",
       "      <td>25.0</td>\n",
       "      <td>190.36</td>\n",
       "      <td>0.0</td>\n",
       "      <td>3275.61</td>\n",
       "      <td>0</td>\n",
       "    </tr>\n",
       "    <tr>\n",
       "      <th>3211</th>\n",
       "      <td>97.0</td>\n",
       "      <td>634.44</td>\n",
       "      <td>70.0</td>\n",
       "      <td>13974.06</td>\n",
       "      <td>0</td>\n",
       "    </tr>\n",
       "    <tr>\n",
       "      <th>3212</th>\n",
       "      <td>64.0</td>\n",
       "      <td>462.32</td>\n",
       "      <td>90.0</td>\n",
       "      <td>31239.78</td>\n",
       "      <td>0</td>\n",
       "    </tr>\n",
       "    <tr>\n",
       "      <th>3213</th>\n",
       "      <td>80.0</td>\n",
       "      <td>566.09</td>\n",
       "      <td>6.0</td>\n",
       "      <td>29480.52</td>\n",
       "      <td>1</td>\n",
       "    </tr>\n",
       "  </tbody>\n",
       "</table>\n",
       "<p>3214 rows × 5 columns</p>\n",
       "</div>"
      ],
      "text/plain": [
       "      calls  minutes  messages   mb_used  is_ultra\n",
       "0      40.0   311.90      83.0  19915.42         0\n",
       "1      85.0   516.75      56.0  22696.96         0\n",
       "2      77.0   467.66      86.0  21060.45         0\n",
       "3     106.0   745.53      81.0   8437.39         1\n",
       "4      66.0   418.74       1.0  14502.75         0\n",
       "...     ...      ...       ...       ...       ...\n",
       "3209  122.0   910.98      20.0  35124.90         1\n",
       "3210   25.0   190.36       0.0   3275.61         0\n",
       "3211   97.0   634.44      70.0  13974.06         0\n",
       "3212   64.0   462.32      90.0  31239.78         0\n",
       "3213   80.0   566.09       6.0  29480.52         1\n",
       "\n",
       "[3214 rows x 5 columns]"
      ]
     },
     "execution_count": 2,
     "metadata": {},
     "output_type": "execute_result"
    }
   ],
   "source": [
    "# Importar dataset\n",
    "df = pd.read_csv('/datasets/users_behavior.csv')\n",
    "df"
   ]
  },
  {
   "cell_type": "markdown",
   "metadata": {},
   "source": [
    "## Desarrollo del Modelo"
   ]
  },
  {
   "cell_type": "markdown",
   "metadata": {},
   "source": [
    "Segmentaremos nuestros datos en un conjunto de entrenamiento, uno de validación y uno de prueba. Se establecerán las siguientes proporciones del dataset:\n",
    "\n",
    "- **Entrenamiento:** 60%\n",
    "- **Validación:** 20%\n",
    "- **Prueba:** 20%"
   ]
  },
  {
   "cell_type": "markdown",
   "metadata": {},
   "source": [
    "### Modelos de Clasifiación"
   ]
  },
  {
   "cell_type": "markdown",
   "metadata": {},
   "source": [
    "Ahora que tenemos nuestros datos segementados, procederemos a la prueba de distintos modelos con diferentes hiperparámetros. El objetivo es encontrar el mejor modelo, el más preciso. Probaremos con los siguientes modelos:\n",
    "\n",
    "- **Árbol de decisiones**\n",
    "- **Bosque aleatorio**\n",
    "- **Regresión Logística**"
   ]
  },
  {
   "cell_type": "markdown",
   "metadata": {},
   "source": [
    "Primero definiremos las características que debe evaluar el modelo (features) y el objetivo (target)."
   ]
  },
  {
   "cell_type": "code",
   "execution_count": 3,
   "metadata": {},
   "outputs": [],
   "source": [
    "# Definir feutures y target del modelo\n",
    "features = df.drop(['is_ultra'], axis=1)\n",
    "target = df['is_ultra']"
   ]
  },
  {
   "cell_type": "markdown",
   "metadata": {},
   "source": [
    "Segmentaremos en conjunto de entrenamiento y de prueba según las prociones descritas anteriormente."
   ]
  },
  {
   "cell_type": "code",
   "execution_count": 4,
   "metadata": {},
   "outputs": [],
   "source": [
    "# Segmentar el dataset en conjutno de entrenamiento y prueba\n",
    "features_train, features_vt, target_train, target_vt = train_test_split(\n",
    "    features, target, test_size=0.40, random_state=12345)\n",
    "\n",
    "features_valid, features_test, target_valid, target_test = train_test_split(\n",
    "    features_vt, target_vt, test_size=0.50, random_state=12345)"
   ]
  },
  {
   "cell_type": "markdown",
   "metadata": {},
   "source": [
    "#### Árbol de decisiones"
   ]
  },
  {
   "cell_type": "markdown",
   "metadata": {},
   "source": [
    "Para optimizar la precisión de nuestro modelo de árbol de decisión, realizaremos iteraciones variando la profundidad máxima del árbol, ajustando así el hiperparámetro max_depth."
   ]
  },
  {
   "cell_type": "code",
   "execution_count": 5,
   "metadata": {},
   "outputs": [
    {
     "name": "stdout",
     "output_type": "stream",
     "text": [
      "Accuracy del mejor modelo en el conjunto de validación (max_depth = 3): 0.7853810264385692\n"
     ]
    }
   ],
   "source": [
    "# Desarrollar modelo de árbol de decisiones\n",
    "best_depth = 0\n",
    "best_score = 0\n",
    "\n",
    "# Seleccionar el rango del hiperparámetro\n",
    "for depth in range(1,10):\n",
    "    \n",
    "    # Modelo    \n",
    "    model_three = DecisionTreeClassifier(random_state=12345,  max_depth=depth)\n",
    "    \n",
    "    # Entrenar el modelo    \n",
    "    model_three.fit(features_train, target_train)\n",
    "    \n",
    "    # Calcular precisión del modelo    \n",
    "    score = model_three.score(features_valid, target_valid)\n",
    "    \n",
    "    # Encontrar el mejor número de estimadores    \n",
    "    if score > best_score:\n",
    "        best_score = score\n",
    "        best_depth = depth\n",
    "        \n",
    "print(\"Accuracy del mejor modelo en el conjunto de validación (max_depth = {}): {}\".format(best_depth, best_score))"
   ]
  },
  {
   "cell_type": "markdown",
   "metadata": {},
   "source": [
    "**Nuestro modelo de árbol de decisiones alcanza un precisión de 0.785 utilizando una profundidad de árbol de decisión (max_depth) de 5.**"
   ]
  },
  {
   "cell_type": "markdown",
   "metadata": {},
   "source": [
    "#### Bosque aleatorio"
   ]
  },
  {
   "cell_type": "markdown",
   "metadata": {},
   "source": [
    "El siguiente modelo a probar será el bosque aletorio donde iteraremos el modelo cambiando el número de estimadores (n_estimators), es decir el número de árboles del bosque."
   ]
  },
  {
   "cell_type": "code",
   "execution_count": 6,
   "metadata": {},
   "outputs": [
    {
     "name": "stdout",
     "output_type": "stream",
     "text": [
      "Accuracy del mejor modelo en el conjunto de validación (n_estimators = 40, max_depth = 8): 0.8087091757387247\n"
     ]
    }
   ],
   "source": [
    "# Desarrollar modelo de bosque aleatorio\n",
    "best_score = 0\n",
    "best_est = 0\n",
    "best_depth = 0\n",
    "\n",
    "# Seleccionar el rango del hiperparámetro\n",
    "for est in range(1,50): \n",
    "    for depth in range(1,10):\n",
    "    \n",
    "        # Modelo\n",
    "        model_forest = RandomForestClassifier(random_state=12345, n_estimators=est, max_depth=depth)\n",
    "\n",
    "        # Entrenar el modelo\n",
    "        model_forest.fit(features_train, target_train)\n",
    "\n",
    "        # Calcular precisión del modelo\n",
    "        score = model_forest.score(features_valid, target_valid)\n",
    "\n",
    "        # Encontrar el mejor número de estimadores\n",
    "        if score > best_score:\n",
    "            best_score = score\n",
    "            best_est = est\n",
    "            best_depth = depth\n",
    "        \n",
    "print(\"Accuracy del mejor modelo en el conjunto de validación (n_estimators = {}, max_depth = {}): {}\".format(best_est, best_depth, best_score))"
   ]
  },
  {
   "cell_type": "markdown",
   "metadata": {},
   "source": [
    "**Nuestro modelo de bosque aleatorio alcanza un precisión de 0.809 utilizando un cantidad de estimadores (n_estimators) de 40 y profundidad  árboles (max_depht) de 8. A pesar que la precisión del modelo es mayor al de árbol de decisión, el modelo es más lento debido a la cantidad estimadores que se deben usar.**"
   ]
  },
  {
   "cell_type": "markdown",
   "metadata": {},
   "source": [
    "#### Regresión logística"
   ]
  },
  {
   "cell_type": "markdown",
   "metadata": {},
   "source": [
    "El último modelo a utlizar será la regresión logística."
   ]
  },
  {
   "cell_type": "code",
   "execution_count": 7,
   "metadata": {},
   "outputs": [
    {
     "name": "stdout",
     "output_type": "stream",
     "text": [
      "Accuracy del modelo de regresión logística en el conjunto de entrenamiento: 0.7505186721991701\n"
     ]
    }
   ],
   "source": [
    "# Desarrollar modelo de regresión logística\n",
    "model_logistic = LogisticRegression(random_state=54321, solver='liblinear')\n",
    "\n",
    "# Entrenar el modelo\n",
    "model_logistic.fit(features_train, target_train) \n",
    "\n",
    "# Calcular precisión del modelo en el conjunto de entrenamiento\n",
    "score_train = model_logistic.score(features_train, target_train)\n",
    "\n",
    "# Calcular precisión del modelo en el conjunto de validación\n",
    "score_valid = model_logistic.score(features_valid, target_valid)\n",
    "\n",
    "print(\"Accuracy del modelo de regresión logística en el conjunto de entrenamiento:\", score_train)"
   ]
  },
  {
   "cell_type": "markdown",
   "metadata": {},
   "source": [
    "**El modelo de regresión logística resulto ser el más bajo en precisión: 0.751.**"
   ]
  },
  {
   "cell_type": "markdown",
   "metadata": {},
   "source": [
    "### Conclusión y elección de modelo"
   ]
  },
  {
   "cell_type": "markdown",
   "metadata": {},
   "source": [
    "Luego de probar nuestros tres modelos, pudimos determinar que **el mejor modelo a aplicar en este caso es el del bosque de árboles utilizando 23 árboles (n_estimators) y profundidad de 8 (max_depth).**"
   ]
  },
  {
   "cell_type": "markdown",
   "metadata": {},
   "source": [
    "## Calidad del Modelo"
   ]
  },
  {
   "cell_type": "markdown",
   "metadata": {},
   "source": [
    "Ahora probaremos la calidad del modelo comparando la diferencia entre la precisión del modelo con el conjunto de prueba."
   ]
  },
  {
   "cell_type": "code",
   "execution_count": 8,
   "metadata": {},
   "outputs": [
    {
     "data": {
      "text/plain": [
       "RandomForestClassifier(n_estimators=23, random_state=12345)"
      ]
     },
     "execution_count": 8,
     "metadata": {},
     "output_type": "execute_result"
    }
   ],
   "source": [
    "# Establecer modelo final\n",
    "final_model = RandomForestClassifier(random_state=12345, n_estimators=23)\n",
    "final_model.fit(features_train, target_train)"
   ]
  },
  {
   "cell_type": "code",
   "execution_count": 9,
   "metadata": {},
   "outputs": [
    {
     "name": "stdout",
     "output_type": "stream",
     "text": [
      "Exactitud:\n",
      "Training set: 0.9937759336099585\n",
      "Test set: 0.7807153965785381\n"
     ]
    }
   ],
   "source": [
    "# Desarrollar modelo final para modelo de entrenamiento y modelo de prueba\n",
    "train_predictions = final_model.predict(features_train)\n",
    "test_predictions = final_model.predict(features_test)\n",
    "\n",
    "print('Exactitud:')\n",
    "print('Training set:', accuracy_score(target_train, train_predictions))\n",
    "print('Test set:', accuracy_score(target_test, test_predictions))"
   ]
  },
  {
   "cell_type": "markdown",
   "metadata": {},
   "source": [
    "**Podemos ver que la exactitud o precisión de nuestro model final en nuestro conjunto de prueba es de 0.781, la cual se aleja al compararlo con nuestro conjunto de entrenamiento. Por lo que podemos concluir que nuestro por el momento nuestro modelo presenta sobreajuste.**"
   ]
  },
  {
   "cell_type": "markdown",
   "metadata": {},
   "source": [
    "## Conclusión General"
   ]
  },
  {
   "cell_type": "markdown",
   "metadata": {},
   "source": [
    "Empezamos nuestro proceso importando el dataset con los comportamiento de los usuarios. Luego segmentamos nuestro dataset en conjunto de entranamiento, validación y de prueba, con proporción 60% para el conjutno de entrenamiento y 20% para el validación y de prueba.\n",
    "\n",
    "Probamos tres modelos: árbol de decisión, bosque aleatorio y regresión logística. Se iteraron sus hiperparámetros y se determinó que el mejor modelo para el proyecto es el de bosque aleatorio.\n",
    "\n",
    "Por último, probamos la precisión de nuestro conjunto de validación frente al de prueba utilizando escogido.\n",
    "\n",
    "**1. El modelo de bosque aleatorio con una cantidad de estimadores de 40 (n_estimators) y profundida de árboles de 8 genera la mayor precisión, 0.795**\n",
    "\n",
    "Se iteró el modelo probando diferente número de estimadores y profundidad de árboles, concluyendo que 23 estimadores es el mejor para el modelo.\n",
    "\n",
    "**2. El modelo de bosque aleatorio muestra sobreajuste al utilizarlo con el conjunto de prueba**\n",
    "\n",
    "Comparamos la exactitud del modelo tanto en el conjunto de entrenamiento como en el conjunto de prueba, encontrando diferencias entre ambos. Esto sugiere que la robustez del modelo no es muy alta y que hay cierto grado de sobreajuste."
   ]
  }
 ],
 "metadata": {
  "kernelspec": {
   "display_name": "Python 3 (ipykernel)",
   "language": "python",
   "name": "python3"
  },
  "language_info": {
   "codemirror_mode": {
    "name": "ipython",
    "version": 3
   },
   "file_extension": ".py",
   "mimetype": "text/x-python",
   "name": "python",
   "nbconvert_exporter": "python",
   "pygments_lexer": "ipython3",
   "version": "3.9.5"
  },
  "toc": {
   "base_numbering": 1,
   "nav_menu": {},
   "number_sections": true,
   "sideBar": true,
   "skip_h1_title": true,
   "title_cell": "Table of Contents",
   "title_sidebar": "Contents",
   "toc_cell": false,
   "toc_position": {},
   "toc_section_display": true,
   "toc_window_display": true
  }
 },
 "nbformat": 4,
 "nbformat_minor": 2
}
